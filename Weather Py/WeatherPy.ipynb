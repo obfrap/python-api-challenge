{
 "cells": [
  {
   "cell_type": "markdown",
   "metadata": {},
   "source": [
    "# WeatherPy\n",
    "----\n",
    "\n",
    "#### Note\n",
    "* Instructions have been included for each segment. You do not have to follow them exactly, but they are included to help you think through the steps."
   ]
  },
  {
   "cell_type": "code",
   "execution_count": 1,
   "metadata": {
    "scrolled": true
   },
   "outputs": [],
   "source": [
    "# Dependencies and Setup\n",
    "import matplotlib.pyplot as plt\n",
    "import pandas as pd\n",
    "import numpy as np\n",
    "import requests\n",
    "import time\n",
    "import scipy.stats as st\n",
    "from scipy.stats import linregress\n",
    "from pandas import json_normalize\n",
    "\n",
    "# Import API key\n",
    "from api_keys import weather_api_key\n",
    "\n",
    "# Incorporated citipy to determine city based on latitude and longitude\n",
    "from citipy import citipy\n",
    "\n",
    "# Output File (CSV)\n",
    "output_data_file = \"output_data/cities.csv\"\n",
    "\n",
    "# Range of latitudes and longitudes\n",
    "lat_range = (-90, 90)\n",
    "lng_range = (-180, 180)"
   ]
  },
  {
   "cell_type": "markdown",
   "metadata": {},
   "source": [
    "## Generate Cities List"
   ]
  },
  {
   "cell_type": "code",
   "execution_count": 2,
   "metadata": {},
   "outputs": [
    {
     "data": {
      "text/plain": [
       "609"
      ]
     },
     "execution_count": 2,
     "metadata": {},
     "output_type": "execute_result"
    }
   ],
   "source": [
    "# List for holding lat_lngs and cities\n",
    "lat_lngs = []\n",
    "cities = []\n",
    "\n",
    "# Create a set of random lat and lng combinations\n",
    "lats = np.random.uniform(lat_range[0], lat_range[1], size=1500)\n",
    "lngs = np.random.uniform(lng_range[0], lng_range[1], size=1500)\n",
    "lat_lngs = zip(lats, lngs)\n",
    "\n",
    "# Identify nearest city for each lat, lng combination\n",
    "for lat_lng in lat_lngs:\n",
    "    city = citipy.nearest_city(lat_lng[0], lat_lng[1]).city_name\n",
    "    \n",
    "    # If the city is unique, then add it to a our cities list\n",
    "    if city not in cities:\n",
    "        cities.append(city)\n",
    "\n",
    "# Print the city count to confirm sufficient count\n",
    "len(cities)"
   ]
  },
  {
   "cell_type": "markdown",
   "metadata": {},
   "source": [
    "### Perform API Calls\n",
    "* Perform a weather check on each city using a series of successive API calls.\n",
    "* Include a print log of each city as it'sbeing processed (with the city number and city name).\n"
   ]
  },
  {
   "cell_type": "code",
   "execution_count": 3,
   "metadata": {},
   "outputs": [
    {
     "name": "stdout",
     "output_type": "stream",
     "text": [
      "itarema is city 1\n",
      "rikitea is city 2\n",
      "satwas is city 3\n",
      "tabiauea is city 4\n",
      "mataura is city 5\n",
      "ushuaia is city 6\n",
      "chernyshkovskiy is city 7\n",
      "vaini is city 8\n",
      "flinders is city 9\n",
      "hithadhoo is city 10\n",
      "attawapiskat is city 11\n",
      "new norfolk is city 12\n",
      "isangel is city 13\n",
      "padang is city 14\n",
      "barrow is city 15\n",
      "porgera is city 16\n",
      "punta arenas is city 17\n",
      "hermanus is city 18\n",
      "barentsburg is city 19\n",
      "atuona is city 20\n",
      "hobart is city 21\n",
      "mar del plata is city 22\n",
      "bredasdorp is city 23\n",
      "manakara is city 24\n",
      "kavaratti is city 25\n",
      "victoria is city 26\n",
      "saleaula is city 27\n",
      "bethel is city 28\n",
      "tiksi is city 29\n",
      "airai is city 30\n",
      "salalah is city 31\n",
      "gombong is city 32\n",
      "kaitangata is city 33\n",
      "sarakhs is city 34\n",
      "rindal is city 35\n",
      "san ramon is city 36\n",
      "amahai is city 37\n",
      "clarence town is city 38\n",
      "azimur is city 39\n",
      "dunedin is city 40\n",
      "illoqqortoormiut is city 41\n",
      "qaanaaq is city 42\n",
      "el badari is city 43\n",
      "la macarena is city 44\n",
      "zolotinka is city 45\n",
      "jamestown is city 46\n",
      "geraldton is city 47\n",
      "yellowknife is city 48\n",
      "lavrentiya is city 49\n",
      "bluff is city 50\n",
      "hilo is city 51\n",
      "samarai is city 52\n",
      "kissamos is city 53\n",
      "albany is city 54\n",
      "saskylakh is city 55\n",
      "castro is city 56\n",
      "busselton is city 57\n",
      "prince george is city 58\n",
      "vaitupu is city 59\n",
      "tuktoyaktuk is city 60\n",
      "oneida is city 61\n",
      "torbay is city 62\n",
      "coquimbo is city 63\n",
      "kasongo-lunda is city 64\n",
      "kavieng is city 65\n",
      "skjervoy is city 66\n",
      "bilma is city 67\n",
      "butaritari is city 68\n",
      "coihaique is city 69\n",
      "meulaboh is city 70\n",
      "fereydunshahr is city 71\n",
      "sorong is city 72\n",
      "upanema is city 73\n",
      "garowe is city 74\n",
      "east london is city 75\n",
      "adrar is city 76\n",
      "nikolskoye is city 77\n",
      "puerto ayora is city 78\n",
      "deputatskiy is city 79\n",
      "gondanglegi is city 80\n",
      "namatanai is city 81\n",
      "ribeira grande is city 82\n",
      "eureka is city 83\n",
      "ilulissat is city 84\n",
      "cherskiy is city 85\n",
      "nemuro is city 86\n",
      "thompson is city 87\n",
      "clyde river is city 88\n",
      "nguiu is city 89\n",
      "oranjemund is city 90\n",
      "halalo is city 91\n",
      "tasiilaq is city 92\n",
      "naugachhia is city 93\n",
      "agadir is city 94\n",
      "kudahuvadhoo is city 95\n",
      "pevek is city 96\n",
      "georgetown is city 97\n",
      "ninghai is city 98\n",
      "kapaa is city 99\n",
      "chuy is city 100\n",
      "greensburg is city 101\n",
      "taolanaro is city 102\n",
      "mandiana is city 103\n",
      "berlevag is city 104\n",
      "praia is city 105\n",
      "arraial do cabo is city 106\n",
      "tiszanagyfalu is city 107\n",
      "porto novo is city 108\n",
      "jiuquan is city 109\n",
      "dikson is city 110\n",
      "khatanga is city 111\n",
      "hasaki is city 112\n",
      "constitucion is city 113\n",
      "anloga is city 114\n",
      "bakel is city 115\n",
      "port elizabeth is city 116\n",
      "hambantota is city 117\n",
      "codrington is city 118\n",
      "saldanha is city 119\n",
      "avarua is city 120\n",
      "peterhead is city 121\n",
      "te anau is city 122\n",
      "lebu is city 123\n",
      "flin flon is city 124\n",
      "port-gentil is city 125\n",
      "bellavista is city 126\n",
      "faanui is city 127\n",
      "makakilo city is city 128\n",
      "beringovskiy is city 129\n",
      "saint-jerome is city 130\n",
      "kodiak is city 131\n",
      "chabahar is city 132\n",
      "medicine hat is city 133\n",
      "mahebourg is city 134\n",
      "barahona is city 135\n",
      "fortuna foothills is city 136\n",
      "tigil is city 137\n",
      "port alfred is city 138\n",
      "tessalit is city 139\n",
      "saint-philippe is city 140\n",
      "jacareacanga is city 141\n",
      "los llanos de aridane is city 142\n",
      "winnemucca is city 143\n",
      "swan hill is city 144\n",
      "dmitriyevka is city 145\n",
      "bud is city 146\n",
      "yar-sale is city 147\n",
      "yalutorovsk is city 148\n",
      "antofagasta is city 149\n",
      "gamba is city 150\n",
      "vestmannaeyjar is city 151\n",
      "chulym is city 152\n",
      "nanortalik is city 153\n",
      "takoradi is city 154\n",
      "salekhard is city 155\n",
      "ulladulla is city 156\n",
      "bolungarvik is city 157\n",
      "karratha is city 158\n",
      "nome is city 159\n",
      "belushya guba is city 160\n",
      "arman is city 161\n",
      "mount gambier is city 162\n",
      "bonthe is city 163\n",
      "tomatlan is city 164\n",
      "sao filipe is city 165\n",
      "basay is city 166\n",
      "tahta is city 167\n",
      "fukue is city 168\n",
      "sosnovo-ozerskoye is city 169\n",
      "voznesenye is city 170\n",
      "luderitz is city 171\n",
      "ouadda is city 172\n",
      "grindavik is city 173\n",
      "bandarbeyla is city 174\n",
      "leh is city 175\n",
      "longyearbyen is city 176\n",
      "grand river south east is city 177\n",
      "fallon is city 178\n",
      "esperance is city 179\n",
      "carballo is city 180\n",
      "peniche is city 181\n",
      "san pedro is city 182\n",
      "sitka is city 183\n",
      "san patricio is city 184\n",
      "eyl is city 185\n",
      "rupert is city 186\n",
      "payo is city 187\n",
      "prado is city 188\n",
      "norman wells is city 189\n",
      "bambous virieux is city 190\n",
      "deder is city 191\n",
      "lata is city 192\n",
      "amderma is city 193\n",
      "sierpc is city 194\n",
      "dinar is city 195\n",
      "san vicente is city 196\n",
      "tabialan is city 197\n",
      "port shepstone is city 198\n",
      "alta floresta is city 199\n",
      "baglan is city 200\n",
      "mys shmidta is city 201\n",
      "ahipara is city 202\n",
      "cockburn town is city 203\n",
      "semnan is city 204\n",
      "yanan is city 205\n",
      "boende is city 206\n",
      "mehamn is city 207\n",
      "nizhneyansk is city 208\n",
      "sorland is city 209\n",
      "haines junction is city 210\n",
      "pohorelice is city 211\n",
      "puerto suarez is city 212\n",
      "ponta delgada is city 213\n",
      "jumla is city 214\n",
      "upernavik is city 215\n",
      "caravelas is city 216\n",
      "mumford is city 217\n",
      "eenhana is city 218\n",
      "novaya ladoga is city 219\n",
      "shangzhi is city 220\n",
      "obo is city 221\n",
      "vinh long is city 222\n",
      "faya is city 223\n",
      "lolua is city 224\n",
      "vilyuysk is city 225\n",
      "chara is city 226\n",
      "diego de almagro is city 227\n",
      "ponta do sol is city 228\n",
      "cape town is city 229\n",
      "aklavik is city 230\n",
      "kisangani is city 231\n",
      "santa cruz is city 232\n",
      "mitu is city 233\n",
      "harstad is city 234\n",
      "sterling is city 235\n",
      "fria is city 236\n",
      "dabhol is city 237\n",
      "ronne is city 238\n",
      "lusambo is city 239\n",
      "sovetskaya is city 240\n",
      "agen is city 241\n",
      "yushu is city 242\n",
      "miracema do tocantins is city 243\n",
      "high rock is city 244\n",
      "lashio is city 245\n",
      "stornoway is city 246\n",
      "tsihombe is city 247\n",
      "awjilah is city 248\n",
      "luebo is city 249\n",
      "tiznit is city 250\n",
      "rayadrug is city 251\n",
      "northam is city 252\n",
      "hami is city 253\n",
      "port keats is city 254\n",
      "sechura is city 255\n",
      "bathsheba is city 256\n",
      "ankang is city 257\n",
      "narsaq is city 258\n",
      "cidreira is city 259\n",
      "akyab is city 260\n",
      "santiago del estero is city 261\n",
      "kirakira is city 262\n",
      "masuguru is city 263\n",
      "iqaluit is city 264\n",
      "palmer is city 265\n",
      "indianola is city 266\n",
      "kununurra is city 267\n",
      "kahului is city 268\n",
      "sao joao da barra is city 269\n",
      "fairbanks is city 270\n",
      "lagoa is city 271\n",
      "half moon bay is city 272\n",
      "barabinsk is city 273\n",
      "omboue is city 274\n",
      "san quintin is city 275\n",
      "port hawkesbury is city 276\n",
      "pahrump is city 277\n",
      "archidona is city 278\n",
      "baykit is city 279\n",
      "senanga is city 280\n",
      "marystown is city 281\n",
      "henties bay is city 282\n",
      "chokurdakh is city 283\n",
      "hamilton is city 284\n",
      "markala is city 285\n",
      "koygorodok is city 286\n",
      "mildura is city 287\n",
      "leningradskiy is city 288\n",
      "codajas is city 289\n",
      "xadani is city 290\n",
      "usinsk is city 291\n",
      "buchanan is city 292\n",
      "petropavlovsk-kamchatskiy is city 293\n",
      "freeport is city 294\n",
      "pitimbu is city 295\n",
      "bourbonnais is city 296\n",
      "saint-joseph is city 297\n",
      "carnarvon is city 298\n",
      "ancud is city 299\n",
      "jiwani is city 300\n",
      "abha is city 301\n",
      "yaan is city 302\n",
      "tsumeb is city 303\n",
      "abbeville is city 304\n",
      "viligili is city 305\n",
      "tokur is city 306\n",
      "doha is city 307\n",
      "slave lake is city 308\n",
      "pangnirtung is city 309\n",
      "komsomolskiy is city 310\n",
      "suna is city 311\n",
      "dwarka is city 312\n",
      "sentyabrskiy is city 313\n",
      "moron is city 314\n",
      "dingle is city 315\n",
      "rawannawi is city 316\n",
      "mizan teferi is city 317\n",
      "prince rupert is city 318\n",
      "simiti is city 319\n",
      "san policarpo is city 320\n",
      "nador is city 321\n",
      "muros is city 322\n",
      "anito is city 323\n",
      "mporokoso is city 324\n",
      "provideniya is city 325\n",
      "manokwari is city 326\n",
      "dien bien is city 327\n",
      "ingham is city 328\n",
      "kutum is city 329\n",
      "mahibadhoo is city 330\n",
      "gat is city 331\n",
      "chapais is city 332\n",
      "phonhong is city 333\n",
      "rosarito is city 334\n",
      "amur is city 335\n",
      "pitkyaranta is city 336\n",
      "cedral is city 337\n",
      "ucluelet is city 338\n",
      "akureyri is city 339\n",
      "bulata is city 340\n",
      "san cristobal is city 341\n",
      "laguna is city 342\n",
      "gogrial is city 343\n",
      "canora is city 344\n",
      "talnakh is city 345\n",
      "sai buri is city 346\n",
      "sindand is city 347\n",
      "nova olinda do norte is city 348\n",
      "miyako is city 349\n",
      "namibe is city 350\n",
      "peleduy is city 351\n",
      "port macquarie is city 352\n",
      "betare oya is city 353\n",
      "bodden town is city 354\n",
      "port hedland is city 355\n",
      "salisbury is city 356\n",
      "zhanakorgan is city 357\n",
      "asau is city 358\n",
      "opuwo is city 359\n",
      "khromtau is city 360\n",
      "yulara is city 361\n",
      "maldonado is city 362\n",
      "nioki is city 363\n",
      "bairnsdale is city 364\n",
      "rheinau is city 365\n",
      "brae is city 366\n",
      "saint george is city 367\n",
      "zhengjiatun is city 368\n",
      "warqla is city 369\n",
      "ostrovnoy is city 370\n",
      "taretan is city 371\n",
      "saint anthony is city 372\n",
      "lorengau is city 373\n",
      "katsuura is city 374\n",
      "kedarnath is city 375\n",
      "ossora is city 376\n",
      "joshimath is city 377\n",
      "galiwinku is city 378\n",
      "poltavka is city 379\n",
      "umzimvubu is city 380\n",
      "libenge is city 381\n",
      "paola is city 382\n",
      "cabras is city 383\n",
      "plainview is city 384\n",
      "nouadhibou is city 385\n",
      "sarangani is city 386\n",
      "asfi is city 387\n",
      "palabuhanratu is city 388\n",
      "mikuni is city 389\n",
      "ferkessedougou is city 390\n",
      "laurel is city 391\n",
      "angoche is city 392\n",
      "megalopoli is city 393\n",
      "poya is city 394\n",
      "manggar is city 395\n",
      "alofi is city 396\n",
      "bafra is city 397\n",
      "merauke is city 398\n",
      "ust-nera is city 399\n",
      "kattivakkam is city 400\n",
      "ariquemes is city 401\n",
      "barcelos is city 402\n",
      "gulshat is city 403\n",
      "vardo is city 404\n",
      "ruatoria is city 405\n",
      "china is city 406\n",
      "ambulu is city 407\n",
      "hunchun is city 408\n",
      "valle hermoso is city 409\n",
      "shelburne is city 410\n",
      "soe is city 411\n",
      "mount isa is city 412\n",
      "thinadhoo is city 413\n",
      "qinnan is city 414\n",
      "hurricane is city 415\n",
      "panshi is city 416\n",
      "himora is city 417\n",
      "solnechnyy is city 418\n",
      "jining is city 419\n",
      "severo-kurilsk is city 420\n",
      "palestina is city 421\n",
      "diffa is city 422\n",
      "tumannyy is city 423\n",
      "ishigaki is city 424\n",
      "simao is city 425\n",
      "machali is city 426\n",
      "louisbourg is city 427\n",
      "riviere-au-renard is city 428\n",
      "moerai is city 429\n",
      "sisimiut is city 430\n",
      "bay roberts is city 431\n",
      "mananara is city 432\n",
      "kruisfontein is city 433\n",
      "pleasantville is city 434\n",
      "iralaya is city 435\n",
      "zeya is city 436\n",
      "moindou is city 437\n",
      "pacific grove is city 438\n",
      "castelo is city 439\n",
      "lompoc is city 440\n",
      "rungata is city 441\n",
      "ouallam is city 442\n",
      "mnisek pod brdy is city 443\n",
      "olafsvik is city 444\n",
      "muskegon is city 445\n",
      "gangotri is city 446\n",
      "balabac is city 447\n",
      "vrangel is city 448\n",
      "atasu is city 449\n",
      "acarau is city 450\n",
      "sangar is city 451\n",
      "belmonte is city 452\n",
      "macamic is city 453\n",
      "soskovo is city 454\n",
      "dipkarpaz is city 455\n",
      "loa janan is city 456\n",
      "ajdabiya is city 457\n",
      "tazovskiy is city 458\n",
      "griffin is city 459\n",
      "salinas is city 460\n",
      "montrose is city 461\n",
      "huangmei is city 462\n",
      "chatham is city 463\n",
      "ambovombe is city 464\n",
      "tambura is city 465\n",
      "moroto is city 466\n",
      "venado tuerto is city 467\n",
      "spring hill is city 468\n",
      "kupang is city 469\n",
      "nuuk is city 470\n",
      "lingao is city 471\n",
      "bela vista is city 472\n",
      "guerrero negro is city 473\n",
      "wanning is city 474\n",
      "hay river is city 475\n",
      "necochea is city 476\n",
      "koforidua is city 477\n",
      "khani is city 478\n",
      "mitsamiouli is city 479\n",
      "maniitsoq is city 480\n",
      "alice springs is city 481\n",
      "samusu is city 482\n",
      "bubaque is city 483\n",
      "lomovka is city 484\n",
      "gushikawa is city 485\n",
      "temple is city 486\n",
      "souillac is city 487\n",
      "marcona is city 488\n",
      "kotelnich is city 489\n",
      "paamiut is city 490\n",
      "kamenskoye is city 491\n",
      "stepnyak is city 492\n",
      "hegra is city 493\n",
      "palana is city 494\n",
      "monte siao is city 495\n",
      "marawi is city 496\n",
      "tautira is city 497\n",
      "kemi is city 498\n",
      "gornopravdinsk is city 499\n",
      "paros is city 500\n",
      "auki is city 501\n",
      "belaya gora is city 502\n",
      "ixtapa is city 503\n",
      "viedma is city 504\n",
      "ayr is city 505\n",
      "hirara is city 506\n",
      "coahuayana is city 507\n",
      "karakulino is city 508\n",
      "ust-karsk is city 509\n",
      "beyla is city 510\n",
      "boatlaname is city 511\n",
      "jiangyan is city 512\n",
      "charters towers is city 513\n",
      "bayanday is city 514\n",
      "yermish is city 515\n",
      "rocha is city 516\n",
      "meadow lake is city 517\n",
      "nyurba is city 518\n",
      "shimoda is city 519\n",
      "yarada is city 520\n",
      "sampit is city 521\n",
      "pangkalanbuun is city 522\n",
      "samalaeulu is city 523\n",
      "boguchany is city 524\n",
      "coos bay is city 525\n",
      "bukachacha is city 526\n",
      "camacha is city 527\n",
      "bakchar is city 528\n",
      "bonaventure is city 529\n",
      "sur is city 530\n",
      "balasheyka is city 531\n",
      "mpanda is city 532\n",
      "kanniyakumari is city 533\n",
      "palauig is city 534\n",
      "moa is city 535\n",
      "maneromango is city 536\n",
      "funtua is city 537\n",
      "elko is city 538\n",
      "banikoara is city 539\n",
      "mabay is city 540\n",
      "sao joaquim do monte is city 541\n",
      "puerto escondido is city 542\n",
      "moree is city 543\n",
      "esna is city 544\n",
      "myrtle beach is city 545\n",
      "port blair is city 546\n",
      "college is city 547\n",
      "forestville is city 548\n",
      "margate is city 549\n",
      "sayyan is city 550\n",
      "santa isabel do rio negro is city 551\n",
      "mareeba is city 552\n",
      "yenagoa is city 553\n",
      "channel-port aux basques is city 554\n",
      "mutsamudu is city 555\n",
      "oga is city 556\n",
      "gamarra is city 557\n",
      "raymond is city 558\n",
      "severo-yeniseyskiy is city 559\n",
      "kerema is city 560\n",
      "shumskiy is city 561\n",
      "sobolevo is city 562\n",
      "vila velha is city 563\n",
      "poddorye is city 564\n",
      "christchurch is city 565\n",
      "tlahualilo is city 566\n",
      "ullal is city 567\n",
      "xuanhua is city 568\n",
      "dire dawa is city 569\n",
      "rio gallegos is city 570\n",
      "el campo is city 571\n",
      "tupik is city 572\n",
      "ngama is city 573\n",
      "harlingen is city 574\n",
      "radnevo is city 575\n",
      "daru is city 576\n",
      "pinawa is city 577\n",
      "maragogi is city 578\n",
      "inirida is city 579\n",
      "belyy is city 580\n",
      "newport is city 581\n",
      "paka is city 582\n",
      "rapid valley is city 583\n",
      "sainte-anne-des-monts is city 584\n",
      "skibbereen is city 585\n",
      "gazli is city 586\n",
      "jinchengjiang is city 587\n",
      "plerin is city 588\n",
      "samut sakhon is city 589\n",
      "tual is city 590\n",
      "voyvozh is city 591\n",
      "richards bay is city 592\n",
      "dalianwan is city 593\n",
      "mengcheng is city 594\n",
      "nevelsk is city 595\n",
      "teeli is city 596\n",
      "huarmey is city 597\n",
      "gladstone is city 598\n",
      "progreso is city 599\n",
      "lubango is city 600\n",
      "puerto pinasco is city 601\n",
      "chicama is city 602\n",
      "prieska is city 603\n",
      "scottsbluff is city 604\n",
      "allanmyo is city 605\n",
      "brownsville is city 606\n",
      "morbegno is city 607\n",
      "amapa is city 608\n",
      "port hardy is city 609\n"
     ]
    }
   ],
   "source": [
    "# Bring in URL for future\n",
    "url = \"http://api.openweathermap.org/data/2.5/weather?\"\n",
    "\n",
    "# Build query URL\n",
    "query_url = url + \"appid=\" + weather_api_key + \"&q=\"\n",
    "\n",
    "#New DataFrame to stor the data\n",
    "weather_df=pd.DataFrame()\n",
    "\n",
    "count=0\n",
    "#For loop to query openweathermap.org bases on rando cities from list.  Read values with Json into a dataframe\n",
    "for city in cities:\n",
    "    city_data=requests.get(query_url+city+'&units=imperial').json()\n",
    "    weather_df=weather_df.append(json_normalize(city_data))\n",
    "    count=count+1\n",
    "    print(f'{city} is city {count}')"
   ]
  },
  {
   "cell_type": "markdown",
   "metadata": {},
   "source": [
    "### Convert Raw Data to DataFrame\n",
    "* Export the city data into a .csv.\n",
    "* Display the DataFrame"
   ]
  },
  {
   "cell_type": "code",
   "execution_count": 4,
   "metadata": {},
   "outputs": [],
   "source": [
    "#Rename columns in data frame\n",
    "weather_df=weather_df.rename(columns={'coord.lon':'Lon', 'coord.lat':'Lat', 'main.temp_max':'Max Temp', 'wind.speed':\n",
    "                                     'Wind Speed', 'main.humidity':'Humidity', 'clouds.all':'Cloud Cover'})\n",
    "#Write renamed file to .csv\n",
    "weather_df=pd.DataFrame(weather_df)\n",
    "weather_df.to_csv('weather_df.csv')"
   ]
  },
  {
   "cell_type": "code",
   "execution_count": 5,
   "metadata": {},
   "outputs": [
    {
     "data": {
      "text/plain": [
       "558"
      ]
     },
     "execution_count": 5,
     "metadata": {},
     "output_type": "execute_result"
    }
   ],
   "source": [
    "#Looking at cod value.  Those with 400 means no city data could be returned\n",
    "weather_df=weather_df[weather_df['cod']==200]\n",
    "\n",
    "len(weather_df)"
   ]
  },
  {
   "cell_type": "markdown",
   "metadata": {},
   "source": [
    "## Inspect the data and remove the cities where the humidity > 100%.\n",
    "----\n",
    "Skip this step if there are no cities that have humidity > 100%. "
   ]
  },
  {
   "cell_type": "code",
   "execution_count": 6,
   "metadata": {},
   "outputs": [
    {
     "data": {
      "text/html": [
       "<div>\n",
       "<style scoped>\n",
       "    .dataframe tbody tr th:only-of-type {\n",
       "        vertical-align: middle;\n",
       "    }\n",
       "\n",
       "    .dataframe tbody tr th {\n",
       "        vertical-align: top;\n",
       "    }\n",
       "\n",
       "    .dataframe thead th {\n",
       "        text-align: right;\n",
       "    }\n",
       "</style>\n",
       "<table border=\"1\" class=\"dataframe\">\n",
       "  <thead>\n",
       "    <tr style=\"text-align: right;\">\n",
       "      <th></th>\n",
       "      <th>weather</th>\n",
       "      <th>base</th>\n",
       "      <th>dt</th>\n",
       "      <th>timezone</th>\n",
       "      <th>id</th>\n",
       "      <th>name</th>\n",
       "      <th>cod</th>\n",
       "      <th>Lon</th>\n",
       "      <th>Lat</th>\n",
       "      <th>main.temp</th>\n",
       "      <th>...</th>\n",
       "      <th>sys.country</th>\n",
       "      <th>sys.sunrise</th>\n",
       "      <th>sys.sunset</th>\n",
       "      <th>message</th>\n",
       "      <th>visibility</th>\n",
       "      <th>sys.type</th>\n",
       "      <th>sys.id</th>\n",
       "      <th>wind.gust</th>\n",
       "      <th>rain.1h</th>\n",
       "      <th>snow.1h</th>\n",
       "    </tr>\n",
       "  </thead>\n",
       "  <tbody>\n",
       "  </tbody>\n",
       "</table>\n",
       "<p>0 rows × 30 columns</p>\n",
       "</div>"
      ],
      "text/plain": [
       "Empty DataFrame\n",
       "Columns: [weather, base, dt, timezone, id, name, cod, Lon, Lat, main.temp, main.feels_like, main.temp_min, Max Temp, main.pressure, Humidity, main.sea_level, main.grnd_level, Wind Speed, wind.deg, Cloud Cover, sys.country, sys.sunrise, sys.sunset, message, visibility, sys.type, sys.id, wind.gust, rain.1h, snow.1h]\n",
       "Index: []\n",
       "\n",
       "[0 rows x 30 columns]"
      ]
     },
     "execution_count": 6,
     "metadata": {},
     "output_type": "execute_result"
    }
   ],
   "source": [
    "#  Get the indices of cities that have humidity over 100%.\n",
    "hum_df=weather_df\n",
    "hum_df=hum_df[hum_df['Humidity']>100]\n",
    "hum_df"
   ]
  },
  {
   "cell_type": "code",
   "execution_count": 7,
   "metadata": {},
   "outputs": [
    {
     "data": {
      "text/html": [
       "<div>\n",
       "<style scoped>\n",
       "    .dataframe tbody tr th:only-of-type {\n",
       "        vertical-align: middle;\n",
       "    }\n",
       "\n",
       "    .dataframe tbody tr th {\n",
       "        vertical-align: top;\n",
       "    }\n",
       "\n",
       "    .dataframe thead th {\n",
       "        text-align: right;\n",
       "    }\n",
       "</style>\n",
       "<table border=\"1\" class=\"dataframe\">\n",
       "  <thead>\n",
       "    <tr style=\"text-align: right;\">\n",
       "      <th></th>\n",
       "      <th>weather</th>\n",
       "      <th>base</th>\n",
       "      <th>dt</th>\n",
       "      <th>timezone</th>\n",
       "      <th>id</th>\n",
       "      <th>name</th>\n",
       "      <th>cod</th>\n",
       "      <th>Lon</th>\n",
       "      <th>Lat</th>\n",
       "      <th>main.temp</th>\n",
       "      <th>...</th>\n",
       "      <th>sys.country</th>\n",
       "      <th>sys.sunrise</th>\n",
       "      <th>sys.sunset</th>\n",
       "      <th>message</th>\n",
       "      <th>visibility</th>\n",
       "      <th>sys.type</th>\n",
       "      <th>sys.id</th>\n",
       "      <th>wind.gust</th>\n",
       "      <th>rain.1h</th>\n",
       "      <th>snow.1h</th>\n",
       "    </tr>\n",
       "  </thead>\n",
       "  <tbody>\n",
       "    <tr>\n",
       "      <th>0</th>\n",
       "      <td>[{'id': 802, 'main': 'Clouds', 'description': ...</td>\n",
       "      <td>stations</td>\n",
       "      <td>1.588885e+09</td>\n",
       "      <td>-10800.0</td>\n",
       "      <td>3393692.0</td>\n",
       "      <td>Itarema</td>\n",
       "      <td>200</td>\n",
       "      <td>-39.92</td>\n",
       "      <td>-2.92</td>\n",
       "      <td>79.43</td>\n",
       "      <td>...</td>\n",
       "      <td>BR</td>\n",
       "      <td>1.588841e+09</td>\n",
       "      <td>1.588884e+09</td>\n",
       "      <td>NaN</td>\n",
       "      <td>NaN</td>\n",
       "      <td>NaN</td>\n",
       "      <td>NaN</td>\n",
       "      <td>NaN</td>\n",
       "      <td>NaN</td>\n",
       "      <td>NaN</td>\n",
       "    </tr>\n",
       "    <tr>\n",
       "      <th>0</th>\n",
       "      <td>[{'id': 801, 'main': 'Clouds', 'description': ...</td>\n",
       "      <td>stations</td>\n",
       "      <td>1.588885e+09</td>\n",
       "      <td>-32400.0</td>\n",
       "      <td>4030556.0</td>\n",
       "      <td>Rikitea</td>\n",
       "      <td>200</td>\n",
       "      <td>-134.97</td>\n",
       "      <td>-23.12</td>\n",
       "      <td>74.86</td>\n",
       "      <td>...</td>\n",
       "      <td>PF</td>\n",
       "      <td>1.588865e+09</td>\n",
       "      <td>1.588905e+09</td>\n",
       "      <td>NaN</td>\n",
       "      <td>NaN</td>\n",
       "      <td>NaN</td>\n",
       "      <td>NaN</td>\n",
       "      <td>NaN</td>\n",
       "      <td>NaN</td>\n",
       "      <td>NaN</td>\n",
       "    </tr>\n",
       "    <tr>\n",
       "      <th>0</th>\n",
       "      <td>[{'id': 800, 'main': 'Clear', 'description': '...</td>\n",
       "      <td>stations</td>\n",
       "      <td>1.588885e+09</td>\n",
       "      <td>19800.0</td>\n",
       "      <td>1256990.0</td>\n",
       "      <td>Satwās</td>\n",
       "      <td>200</td>\n",
       "      <td>76.68</td>\n",
       "      <td>22.53</td>\n",
       "      <td>84.52</td>\n",
       "      <td>...</td>\n",
       "      <td>IN</td>\n",
       "      <td>1.588897e+09</td>\n",
       "      <td>1.588944e+09</td>\n",
       "      <td>NaN</td>\n",
       "      <td>NaN</td>\n",
       "      <td>NaN</td>\n",
       "      <td>NaN</td>\n",
       "      <td>NaN</td>\n",
       "      <td>NaN</td>\n",
       "      <td>NaN</td>\n",
       "    </tr>\n",
       "    <tr>\n",
       "      <th>0</th>\n",
       "      <td>[{'id': 804, 'main': 'Clouds', 'description': ...</td>\n",
       "      <td>stations</td>\n",
       "      <td>1.588885e+09</td>\n",
       "      <td>43200.0</td>\n",
       "      <td>6201424.0</td>\n",
       "      <td>Mataura</td>\n",
       "      <td>200</td>\n",
       "      <td>168.86</td>\n",
       "      <td>-46.19</td>\n",
       "      <td>49.57</td>\n",
       "      <td>...</td>\n",
       "      <td>NZ</td>\n",
       "      <td>1.588881e+09</td>\n",
       "      <td>1.588916e+09</td>\n",
       "      <td>NaN</td>\n",
       "      <td>NaN</td>\n",
       "      <td>NaN</td>\n",
       "      <td>NaN</td>\n",
       "      <td>NaN</td>\n",
       "      <td>NaN</td>\n",
       "      <td>NaN</td>\n",
       "    </tr>\n",
       "    <tr>\n",
       "      <th>0</th>\n",
       "      <td>[{'id': 803, 'main': 'Clouds', 'description': ...</td>\n",
       "      <td>stations</td>\n",
       "      <td>1.588885e+09</td>\n",
       "      <td>-10800.0</td>\n",
       "      <td>3833367.0</td>\n",
       "      <td>Ushuaia</td>\n",
       "      <td>200</td>\n",
       "      <td>-68.30</td>\n",
       "      <td>-54.80</td>\n",
       "      <td>44.60</td>\n",
       "      <td>...</td>\n",
       "      <td>AR</td>\n",
       "      <td>1.588853e+09</td>\n",
       "      <td>1.588885e+09</td>\n",
       "      <td>NaN</td>\n",
       "      <td>10000.0</td>\n",
       "      <td>1.0</td>\n",
       "      <td>8303.0</td>\n",
       "      <td>NaN</td>\n",
       "      <td>NaN</td>\n",
       "      <td>NaN</td>\n",
       "    </tr>\n",
       "    <tr>\n",
       "      <th>...</th>\n",
       "      <td>...</td>\n",
       "      <td>...</td>\n",
       "      <td>...</td>\n",
       "      <td>...</td>\n",
       "      <td>...</td>\n",
       "      <td>...</td>\n",
       "      <td>...</td>\n",
       "      <td>...</td>\n",
       "      <td>...</td>\n",
       "      <td>...</td>\n",
       "      <td>...</td>\n",
       "      <td>...</td>\n",
       "      <td>...</td>\n",
       "      <td>...</td>\n",
       "      <td>...</td>\n",
       "      <td>...</td>\n",
       "      <td>...</td>\n",
       "      <td>...</td>\n",
       "      <td>...</td>\n",
       "      <td>...</td>\n",
       "      <td>...</td>\n",
       "    </tr>\n",
       "    <tr>\n",
       "      <th>0</th>\n",
       "      <td>[{'id': 802, 'main': 'Clouds', 'description': ...</td>\n",
       "      <td>stations</td>\n",
       "      <td>1.588886e+09</td>\n",
       "      <td>-21600.0</td>\n",
       "      <td>5699404.0</td>\n",
       "      <td>Scottsbluff</td>\n",
       "      <td>200</td>\n",
       "      <td>-103.67</td>\n",
       "      <td>41.87</td>\n",
       "      <td>59.32</td>\n",
       "      <td>...</td>\n",
       "      <td>US</td>\n",
       "      <td>1.588852e+09</td>\n",
       "      <td>1.588903e+09</td>\n",
       "      <td>NaN</td>\n",
       "      <td>16093.0</td>\n",
       "      <td>1.0</td>\n",
       "      <td>3415.0</td>\n",
       "      <td>41.38</td>\n",
       "      <td>NaN</td>\n",
       "      <td>NaN</td>\n",
       "    </tr>\n",
       "    <tr>\n",
       "      <th>0</th>\n",
       "      <td>[{'id': 802, 'main': 'Clouds', 'description': ...</td>\n",
       "      <td>stations</td>\n",
       "      <td>1.588885e+09</td>\n",
       "      <td>-18000.0</td>\n",
       "      <td>4676740.0</td>\n",
       "      <td>Brownsville</td>\n",
       "      <td>200</td>\n",
       "      <td>-97.50</td>\n",
       "      <td>25.90</td>\n",
       "      <td>90.43</td>\n",
       "      <td>...</td>\n",
       "      <td>US</td>\n",
       "      <td>1.588852e+09</td>\n",
       "      <td>1.588900e+09</td>\n",
       "      <td>NaN</td>\n",
       "      <td>16093.0</td>\n",
       "      <td>1.0</td>\n",
       "      <td>3496.0</td>\n",
       "      <td>24.16</td>\n",
       "      <td>NaN</td>\n",
       "      <td>NaN</td>\n",
       "    </tr>\n",
       "    <tr>\n",
       "      <th>0</th>\n",
       "      <td>[{'id': 803, 'main': 'Clouds', 'description': ...</td>\n",
       "      <td>stations</td>\n",
       "      <td>1.588886e+09</td>\n",
       "      <td>7200.0</td>\n",
       "      <td>3172617.0</td>\n",
       "      <td>Morbegno</td>\n",
       "      <td>200</td>\n",
       "      <td>9.57</td>\n",
       "      <td>46.14</td>\n",
       "      <td>58.10</td>\n",
       "      <td>...</td>\n",
       "      <td>IT</td>\n",
       "      <td>1.588824e+09</td>\n",
       "      <td>1.588877e+09</td>\n",
       "      <td>NaN</td>\n",
       "      <td>NaN</td>\n",
       "      <td>3.0</td>\n",
       "      <td>2007696.0</td>\n",
       "      <td>NaN</td>\n",
       "      <td>NaN</td>\n",
       "      <td>NaN</td>\n",
       "    </tr>\n",
       "    <tr>\n",
       "      <th>0</th>\n",
       "      <td>[{'id': 501, 'main': 'Rain', 'description': 'm...</td>\n",
       "      <td>stations</td>\n",
       "      <td>1.588886e+09</td>\n",
       "      <td>-10800.0</td>\n",
       "      <td>3407762.0</td>\n",
       "      <td>Amapá</td>\n",
       "      <td>200</td>\n",
       "      <td>-52.00</td>\n",
       "      <td>1.00</td>\n",
       "      <td>73.40</td>\n",
       "      <td>...</td>\n",
       "      <td>BR</td>\n",
       "      <td>1.588843e+09</td>\n",
       "      <td>1.588887e+09</td>\n",
       "      <td>NaN</td>\n",
       "      <td>NaN</td>\n",
       "      <td>NaN</td>\n",
       "      <td>NaN</td>\n",
       "      <td>NaN</td>\n",
       "      <td>1.44</td>\n",
       "      <td>NaN</td>\n",
       "    </tr>\n",
       "    <tr>\n",
       "      <th>0</th>\n",
       "      <td>[{'id': 802, 'main': 'Clouds', 'description': ...</td>\n",
       "      <td>stations</td>\n",
       "      <td>1.588886e+09</td>\n",
       "      <td>-25200.0</td>\n",
       "      <td>6111862.0</td>\n",
       "      <td>Port Hardy</td>\n",
       "      <td>200</td>\n",
       "      <td>-127.42</td>\n",
       "      <td>50.70</td>\n",
       "      <td>51.80</td>\n",
       "      <td>...</td>\n",
       "      <td>CA</td>\n",
       "      <td>1.588856e+09</td>\n",
       "      <td>1.588910e+09</td>\n",
       "      <td>NaN</td>\n",
       "      <td>32186.0</td>\n",
       "      <td>1.0</td>\n",
       "      <td>1011.0</td>\n",
       "      <td>NaN</td>\n",
       "      <td>NaN</td>\n",
       "      <td>NaN</td>\n",
       "    </tr>\n",
       "  </tbody>\n",
       "</table>\n",
       "<p>558 rows × 30 columns</p>\n",
       "</div>"
      ],
      "text/plain": [
       "                                              weather      base            dt  \\\n",
       "0   [{'id': 802, 'main': 'Clouds', 'description': ...  stations  1.588885e+09   \n",
       "0   [{'id': 801, 'main': 'Clouds', 'description': ...  stations  1.588885e+09   \n",
       "0   [{'id': 800, 'main': 'Clear', 'description': '...  stations  1.588885e+09   \n",
       "0   [{'id': 804, 'main': 'Clouds', 'description': ...  stations  1.588885e+09   \n",
       "0   [{'id': 803, 'main': 'Clouds', 'description': ...  stations  1.588885e+09   \n",
       "..                                                ...       ...           ...   \n",
       "0   [{'id': 802, 'main': 'Clouds', 'description': ...  stations  1.588886e+09   \n",
       "0   [{'id': 802, 'main': 'Clouds', 'description': ...  stations  1.588885e+09   \n",
       "0   [{'id': 803, 'main': 'Clouds', 'description': ...  stations  1.588886e+09   \n",
       "0   [{'id': 501, 'main': 'Rain', 'description': 'm...  stations  1.588886e+09   \n",
       "0   [{'id': 802, 'main': 'Clouds', 'description': ...  stations  1.588886e+09   \n",
       "\n",
       "    timezone         id         name  cod     Lon    Lat  main.temp  ...  \\\n",
       "0   -10800.0  3393692.0      Itarema  200  -39.92  -2.92      79.43  ...   \n",
       "0   -32400.0  4030556.0      Rikitea  200 -134.97 -23.12      74.86  ...   \n",
       "0    19800.0  1256990.0       Satwās  200   76.68  22.53      84.52  ...   \n",
       "0    43200.0  6201424.0      Mataura  200  168.86 -46.19      49.57  ...   \n",
       "0   -10800.0  3833367.0      Ushuaia  200  -68.30 -54.80      44.60  ...   \n",
       "..       ...        ...          ...  ...     ...    ...        ...  ...   \n",
       "0   -21600.0  5699404.0  Scottsbluff  200 -103.67  41.87      59.32  ...   \n",
       "0   -18000.0  4676740.0  Brownsville  200  -97.50  25.90      90.43  ...   \n",
       "0     7200.0  3172617.0     Morbegno  200    9.57  46.14      58.10  ...   \n",
       "0   -10800.0  3407762.0        Amapá  200  -52.00   1.00      73.40  ...   \n",
       "0   -25200.0  6111862.0   Port Hardy  200 -127.42  50.70      51.80  ...   \n",
       "\n",
       "    sys.country   sys.sunrise    sys.sunset  message  visibility  sys.type  \\\n",
       "0            BR  1.588841e+09  1.588884e+09      NaN         NaN       NaN   \n",
       "0            PF  1.588865e+09  1.588905e+09      NaN         NaN       NaN   \n",
       "0            IN  1.588897e+09  1.588944e+09      NaN         NaN       NaN   \n",
       "0            NZ  1.588881e+09  1.588916e+09      NaN         NaN       NaN   \n",
       "0            AR  1.588853e+09  1.588885e+09      NaN     10000.0       1.0   \n",
       "..          ...           ...           ...      ...         ...       ...   \n",
       "0            US  1.588852e+09  1.588903e+09      NaN     16093.0       1.0   \n",
       "0            US  1.588852e+09  1.588900e+09      NaN     16093.0       1.0   \n",
       "0            IT  1.588824e+09  1.588877e+09      NaN         NaN       3.0   \n",
       "0            BR  1.588843e+09  1.588887e+09      NaN         NaN       NaN   \n",
       "0            CA  1.588856e+09  1.588910e+09      NaN     32186.0       1.0   \n",
       "\n",
       "       sys.id  wind.gust  rain.1h  snow.1h  \n",
       "0         NaN        NaN      NaN      NaN  \n",
       "0         NaN        NaN      NaN      NaN  \n",
       "0         NaN        NaN      NaN      NaN  \n",
       "0         NaN        NaN      NaN      NaN  \n",
       "0      8303.0        NaN      NaN      NaN  \n",
       "..        ...        ...      ...      ...  \n",
       "0      3415.0      41.38      NaN      NaN  \n",
       "0      3496.0      24.16      NaN      NaN  \n",
       "0   2007696.0        NaN      NaN      NaN  \n",
       "0         NaN        NaN     1.44      NaN  \n",
       "0      1011.0        NaN      NaN      NaN  \n",
       "\n",
       "[558 rows x 30 columns]"
      ]
     },
     "execution_count": 7,
     "metadata": {},
     "output_type": "execute_result"
    }
   ],
   "source": [
    "# Make a new DataFrame equal to the city data to drop all humidity outliers by index.\n",
    "clean_city_data=weather_df.drop(hum_df.index, axis=0, inplace=False)\n",
    "# Passing \"inplace=False\" will make a copy of the city_data DataFrame, which we call \"clean_city_data\".\n",
    "clean_city_data=pd.DataFrame(clean_city_data)\n",
    "\n",
    "clean_city_data"
   ]
  },
  {
   "cell_type": "code",
   "execution_count": 8,
   "metadata": {},
   "outputs": [
    {
     "data": {
      "text/html": [
       "<div>\n",
       "<style scoped>\n",
       "    .dataframe tbody tr th:only-of-type {\n",
       "        vertical-align: middle;\n",
       "    }\n",
       "\n",
       "    .dataframe tbody tr th {\n",
       "        vertical-align: top;\n",
       "    }\n",
       "\n",
       "    .dataframe thead th {\n",
       "        text-align: right;\n",
       "    }\n",
       "</style>\n",
       "<table border=\"1\" class=\"dataframe\">\n",
       "  <thead>\n",
       "    <tr style=\"text-align: right;\">\n",
       "      <th></th>\n",
       "      <th>name</th>\n",
       "      <th>Lon</th>\n",
       "      <th>Lat</th>\n",
       "      <th>Max Temp</th>\n",
       "      <th>Wind Speed</th>\n",
       "      <th>Humidity</th>\n",
       "      <th>Cloud Cover</th>\n",
       "    </tr>\n",
       "  </thead>\n",
       "  <tbody>\n",
       "    <tr>\n",
       "      <th>0</th>\n",
       "      <td>Ushuaia</td>\n",
       "      <td>-68.30</td>\n",
       "      <td>-54.80</td>\n",
       "      <td>44.60</td>\n",
       "      <td>5.82</td>\n",
       "      <td>81.0</td>\n",
       "      <td>75.0</td>\n",
       "    </tr>\n",
       "    <tr>\n",
       "      <th>0</th>\n",
       "      <td>Punta Arenas</td>\n",
       "      <td>-70.92</td>\n",
       "      <td>-53.15</td>\n",
       "      <td>46.40</td>\n",
       "      <td>5.82</td>\n",
       "      <td>93.0</td>\n",
       "      <td>90.0</td>\n",
       "    </tr>\n",
       "    <tr>\n",
       "      <th>0</th>\n",
       "      <td>Río Gallegos</td>\n",
       "      <td>-69.22</td>\n",
       "      <td>-51.62</td>\n",
       "      <td>50.00</td>\n",
       "      <td>12.75</td>\n",
       "      <td>81.0</td>\n",
       "      <td>75.0</td>\n",
       "    </tr>\n",
       "    <tr>\n",
       "      <th>0</th>\n",
       "      <td>Bluff</td>\n",
       "      <td>168.33</td>\n",
       "      <td>-46.60</td>\n",
       "      <td>51.01</td>\n",
       "      <td>14.03</td>\n",
       "      <td>76.0</td>\n",
       "      <td>88.0</td>\n",
       "    </tr>\n",
       "    <tr>\n",
       "      <th>0</th>\n",
       "      <td>Kaitangata</td>\n",
       "      <td>169.85</td>\n",
       "      <td>-46.28</td>\n",
       "      <td>52.00</td>\n",
       "      <td>5.01</td>\n",
       "      <td>70.0</td>\n",
       "      <td>56.0</td>\n",
       "    </tr>\n",
       "    <tr>\n",
       "      <th>...</th>\n",
       "      <td>...</td>\n",
       "      <td>...</td>\n",
       "      <td>...</td>\n",
       "      <td>...</td>\n",
       "      <td>...</td>\n",
       "      <td>...</td>\n",
       "      <td>...</td>\n",
       "    </tr>\n",
       "    <tr>\n",
       "      <th>0</th>\n",
       "      <td>Khatanga</td>\n",
       "      <td>102.50</td>\n",
       "      <td>71.97</td>\n",
       "      <td>2.66</td>\n",
       "      <td>10.78</td>\n",
       "      <td>92.0</td>\n",
       "      <td>0.0</td>\n",
       "    </tr>\n",
       "    <tr>\n",
       "      <th>0</th>\n",
       "      <td>Upernavik</td>\n",
       "      <td>-56.15</td>\n",
       "      <td>72.79</td>\n",
       "      <td>20.07</td>\n",
       "      <td>9.08</td>\n",
       "      <td>91.0</td>\n",
       "      <td>34.0</td>\n",
       "    </tr>\n",
       "    <tr>\n",
       "      <th>0</th>\n",
       "      <td>Dikson</td>\n",
       "      <td>80.55</td>\n",
       "      <td>73.51</td>\n",
       "      <td>12.69</td>\n",
       "      <td>9.84</td>\n",
       "      <td>93.0</td>\n",
       "      <td>100.0</td>\n",
       "    </tr>\n",
       "    <tr>\n",
       "      <th>0</th>\n",
       "      <td>Qaanaaq</td>\n",
       "      <td>-69.36</td>\n",
       "      <td>77.48</td>\n",
       "      <td>16.90</td>\n",
       "      <td>1.19</td>\n",
       "      <td>89.0</td>\n",
       "      <td>100.0</td>\n",
       "    </tr>\n",
       "    <tr>\n",
       "      <th>0</th>\n",
       "      <td>Longyearbyen</td>\n",
       "      <td>15.64</td>\n",
       "      <td>78.22</td>\n",
       "      <td>30.20</td>\n",
       "      <td>3.36</td>\n",
       "      <td>68.0</td>\n",
       "      <td>75.0</td>\n",
       "    </tr>\n",
       "  </tbody>\n",
       "</table>\n",
       "<p>558 rows × 7 columns</p>\n",
       "</div>"
      ],
      "text/plain": [
       "            name     Lon    Lat  Max Temp  Wind Speed  Humidity  Cloud Cover\n",
       "0        Ushuaia  -68.30 -54.80     44.60        5.82      81.0         75.0\n",
       "0   Punta Arenas  -70.92 -53.15     46.40        5.82      93.0         90.0\n",
       "0   Río Gallegos  -69.22 -51.62     50.00       12.75      81.0         75.0\n",
       "0          Bluff  168.33 -46.60     51.01       14.03      76.0         88.0\n",
       "0     Kaitangata  169.85 -46.28     52.00        5.01      70.0         56.0\n",
       "..           ...     ...    ...       ...         ...       ...          ...\n",
       "0       Khatanga  102.50  71.97      2.66       10.78      92.0          0.0\n",
       "0      Upernavik  -56.15  72.79     20.07        9.08      91.0         34.0\n",
       "0         Dikson   80.55  73.51     12.69        9.84      93.0        100.0\n",
       "0        Qaanaaq  -69.36  77.48     16.90        1.19      89.0        100.0\n",
       "0   Longyearbyen   15.64  78.22     30.20        3.36      68.0         75.0\n",
       "\n",
       "[558 rows x 7 columns]"
      ]
     },
     "execution_count": 8,
     "metadata": {},
     "output_type": "execute_result"
    }
   ],
   "source": [
    "# Extract relevant fields from the data frame\n",
    "clean_city_data=clean_city_data.filter(['name','Lon', 'Lat', 'Max Temp','Wind Speed', 'Humidity', 'Cloud Cover'], axis=1)\n",
    "clean_city_data=clean_city_data.sort_values('Lat')\n",
    "# Export the City_Data into a csv\n",
    "clean_city_data.to_csv('clean_city_data.csv')\n",
    "clean_city_data"
   ]
  },
  {
   "cell_type": "markdown",
   "metadata": {},
   "source": [
    "## Plotting the Data\n",
    "* Use proper labeling of the plots using plot titles (including date of analysis) and axes labels.\n",
    "* Save the plotted figures as .pngs."
   ]
  },
  {
   "cell_type": "markdown",
   "metadata": {},
   "source": [
    "## Latitude vs. Temperature Plot"
   ]
  },
  {
   "cell_type": "code",
   "execution_count": 9,
   "metadata": {
    "scrolled": true
   },
   "outputs": [
    {
     "data": {
      "text/plain": [
       "Text(0, 0.5, 'Max Temperatures(F)')"
      ]
     },
     "execution_count": 9,
     "metadata": {},
     "output_type": "execute_result"
    },
    {
     "data": {
      "image/png": "[encoded data removed]",
      "text/plain": [
       "<Figure size 432x288 with 1 Axes>"
      ]
     },
     "metadata": {
      "needs_background": "light"
     },
     "output_type": "display_data"
    }
   ],
   "source": [
    "#Create variable lists to plot.  wd_lat for latitude, wd_temp for temp, etc...\n",
    "wd_lat=clean_city_data['Lat']\n",
    "wd_temp=clean_city_data['Max Temp']\n",
    "\n",
    "plt.plot(wd_lat, wd_temp)\n",
    "plt.title(\"Max Temperatures(F) by Latitude May 7th, 2020\")\n",
    "plt.xlabel(\"Latitdue\")\n",
    "plt.ylabel('Max Temperatures(F)')"
   ]
  },
  {
   "cell_type": "code",
   "execution_count": null,
   "metadata": {},
   "outputs": [],
   "source": [
    "#Code is looking at the maximum temperature from the city list and plotting it by latitude.  \n",
    "#We can see max temperature distributed over the various latitudes"
   ]
  },
  {
   "cell_type": "markdown",
   "metadata": {},
   "source": [
    "## Latitude vs. Humidity Plot"
   ]
  },
  {
   "cell_type": "code",
   "execution_count": 10,
   "metadata": {},
   "outputs": [
    {
     "data": {
      "text/plain": [
       "Text(0, 0.5, 'Humidity (%)')"
      ]
     },
     "execution_count": 10,
     "metadata": {},
     "output_type": "execute_result"
    },
    {
     "data": {
      "image/png": "[encoded data removed]",
      "text/plain": [
       "<Figure size 432x288 with 1 Axes>"
      ]
     },
     "metadata": {
      "needs_background": "light"
     },
     "output_type": "display_data"
    }
   ],
   "source": [
    "#Create variable lists to plot. Adding Humidity to plot\n",
    "wd_hum=clean_city_data['Humidity']\n",
    "\n",
    "plt.plot(wd_lat, wd_hum)\n",
    "plt.title(\"Humidity (%) by Latitude May 7th, 2020\")\n",
    "plt.xlabel(\"Latitdue\")\n",
    "plt.ylabel('Humidity (%)')"
   ]
  },
  {
   "cell_type": "code",
   "execution_count": null,
   "metadata": {},
   "outputs": [],
   "source": [
    "#Code is looking at the humidity reading from the city list and plotting it by latitude.  \n",
    "#We can see humidity distributed over the various latitudes"
   ]
  },
  {
   "cell_type": "markdown",
   "metadata": {},
   "source": [
    "## Latitude vs. Cloudiness Plot"
   ]
  },
  {
   "cell_type": "code",
   "execution_count": 11,
   "metadata": {},
   "outputs": [
    {
     "data": {
      "text/plain": [
       "Text(0, 0.5, 'Cloudiness (%)')"
      ]
     },
     "execution_count": 11,
     "metadata": {},
     "output_type": "execute_result"
    },
    {
     "data": {
      "image/png": "[encoded data removed]",
      "text/plain": [
       "<Figure size 432x288 with 1 Axes>"
      ]
     },
     "metadata": {
      "needs_background": "light"
     },
     "output_type": "display_data"
    }
   ],
   "source": [
    "#Add variable list for Cloudiness\n",
    "wd_cloud=clean_city_data['Cloud Cover']\n",
    "\n",
    "plt.plot(wd_lat, wd_cloud)\n",
    "plt.title(\"Cloudiness (%) by Latitude May 7th, 2020\")\n",
    "plt.xlabel(\"Latitdue\")\n",
    "plt.ylabel('Cloudiness (%)')"
   ]
  },
  {
   "cell_type": "code",
   "execution_count": null,
   "metadata": {},
   "outputs": [],
   "source": [
    "#Code is looking at the percent cloudiness reading from the city list and plotting it by latitude.  \n",
    "#We can see percent cloudiness distributed over the various latitudes"
   ]
  },
  {
   "cell_type": "markdown",
   "metadata": {},
   "source": [
    "## Latitude vs. Wind Speed Plot"
   ]
  },
  {
   "cell_type": "code",
   "execution_count": 12,
   "metadata": {},
   "outputs": [
    {
     "data": {
      "text/plain": [
       "Text(0, 0.5, 'Wind Speed (mpg)')"
      ]
     },
     "execution_count": 12,
     "metadata": {},
     "output_type": "execute_result"
    },
    {
     "data": {
      "image/png": "[encoded data removed]",
      "text/plain": [
       "<Figure size 432x288 with 1 Axes>"
      ]
     },
     "metadata": {
      "needs_background": "light"
     },
     "output_type": "display_data"
    }
   ],
   "source": [
    "#Add variable list for Wind speed\n",
    "wd_wind=clean_city_data['Wind Speed']\n",
    "\n",
    "plt.plot(wd_lat, wd_wind)\n",
    "plt.title(\"Wind Speed (mph) by Latitude May 7th, 2020\")\n",
    "plt.xlabel(\"Latitdue\")\n",
    "plt.ylabel('Wind Speed (mpg)')"
   ]
  },
  {
   "cell_type": "code",
   "execution_count": null,
   "metadata": {},
   "outputs": [],
   "source": [
    "#Code is looking at the average wind speed reading from the city list and plotting it by latitude.  \n",
    "#We can see average wind speed distributed over the various latitudes"
   ]
  },
  {
   "cell_type": "markdown",
   "metadata": {},
   "source": [
    "## Linear Regression"
   ]
  },
  {
   "cell_type": "code",
   "execution_count": null,
   "metadata": {},
   "outputs": [],
   "source": [
    "# OPTIONAL: Create a function to create Linear Regression plots\n",
    "# Will come back to"
   ]
  },
  {
   "cell_type": "code",
   "execution_count": 13,
   "metadata": {},
   "outputs": [],
   "source": [
    "# Create Northern and Southern Hemisphere DataFrames\n",
    "no_hem=clean_city_data[clean_city_data['Lat']>0]\n",
    "so_hem=clean_city_data[clean_city_data['Lat']<0]\n",
    "\n"
   ]
  },
  {
   "cell_type": "markdown",
   "metadata": {},
   "source": [
    "####  Northern Hemisphere - Max Temp vs. Latitude Linear Regression"
   ]
  },
  {
   "cell_type": "code",
   "execution_count": 23,
   "metadata": {},
   "outputs": [
    {
     "name": "stdout",
     "output_type": "stream",
     "text": [
      "The correlation between both factors is -0.85\n"
     ]
    },
    {
     "data": {
      "image/png": "[encoded data removed]",
      "text/plain": [
       "<Figure size 432x288 with 1 Axes>"
      ]
     },
     "metadata": {
      "needs_background": "light"
     },
     "output_type": "display_data"
    }
   ],
   "source": [
    "#Bring in pearsonr to calculate correlation between variables.  will call correlation\n",
    "x=no_hem['Lat']\n",
    "y=no_hem['Max Temp']\n",
    "correlation = st.pearsonr(x, y)\n",
    "print(f\"The correlation between both factors is {round(correlation[0],2)}\")\n",
    "cp_slope, cp_int, cp_r, vc_p, cp_std_err = st.linregress(x, y)\n",
    "cp_fit = cp_slope * x + cp_int\n",
    "\n",
    "plt.scatter(x,y)\n",
    "plt.plot(x,cp_fit,\"--\")\n",
    "plt.xlabel('Latitude')\n",
    "plt.ylabel(\"Max Temmperature (F)\")\n",
    "plt.title(\"Norther Hemisphere Max Temp by Latitude May 7th, 2020\")\n",
    "plt.show()"
   ]
  },
  {
   "cell_type": "markdown",
   "metadata": {},
   "source": [
    "####  Southern Hemisphere - Max Temp vs. Latitude Linear Regression"
   ]
  },
  {
   "cell_type": "code",
   "execution_count": 24,
   "metadata": {},
   "outputs": [
    {
     "name": "stdout",
     "output_type": "stream",
     "text": [
      "The correlation between both factors is 0.77\n"
     ]
    },
    {
     "data": {
      "image/png": "[encoded data removed]",
      "text/plain": [
       "<Figure size 432x288 with 1 Axes>"
      ]
     },
     "metadata": {
      "needs_background": "light"
     },
     "output_type": "display_data"
    }
   ],
   "source": [
    "#Repeat for southern hem.  \n",
    "x=so_hem['Lat']\n",
    "y=so_hem['Max Temp']\n",
    "correlation = st.pearsonr(x, y)\n",
    "print(f\"The correlation between both factors is {round(correlation[0],2)}\")\n",
    "cp_slope, cp_int, cp_r, vc_p, cp_std_err = st.linregress(x, y)\n",
    "cp_fit = cp_slope * x + cp_int\n",
    "\n",
    "plt.scatter(x,y)\n",
    "plt.plot(x,cp_fit,\"--\")\n",
    "plt.xlabel('Latitude')\n",
    "plt.ylabel(\"Max Temmperature (F)\")\n",
    "plt.title(\"Southern Hemisphere Max Temp by Latitude May 7th, 2020\")\n",
    "plt.show()"
   ]
  },
  {
   "cell_type": "code",
   "execution_count": null,
   "metadata": {},
   "outputs": [],
   "source": [
    "#Max Temp vs. Latitude Linear Regression for norther and southern hemispheres is plotting lat vs max tem and determining the pearson-r correlation value\n",
    "#We see farily strong pearson-r correlation coefficient value for both northern and southern hemishpheres comparing Latitude with max Temp, indicating a stroung correlation.\n",
    "#Trend is temperatures increase toward the equator (i.e. Lat = 0.0)\n",
    "#As one gets closer to the equator, those sections of the earth recieve more direct sunlight than latitudes closer to the poles, hence warming this regions more.\n",
    "#Correlation is slightly stronger in Northern hemisphere (-0.85 to 0.77)\n"
   ]
  },
  {
   "cell_type": "markdown",
   "metadata": {},
   "source": [
    "####  Northern Hemisphere - Humidity (%) vs. Latitude Linear Regression"
   ]
  },
  {
   "cell_type": "code",
   "execution_count": 25,
   "metadata": {},
   "outputs": [
    {
     "name": "stdout",
     "output_type": "stream",
     "text": [
      "The correlation between both factors is 0.09\n"
     ]
    },
    {
     "data": {
      "image/png": "[encoded data removed]",
      "text/plain": [
       "<Figure size 432x288 with 1 Axes>"
      ]
     },
     "metadata": {
      "needs_background": "light"
     },
     "output_type": "display_data"
    }
   ],
   "source": [
    "#Repeat for humidty\n",
    "x=no_hem['Lat']\n",
    "y=no_hem['Humidity']\n",
    "correlation = st.pearsonr(x, y)\n",
    "print(f\"The correlation between both factors is {round(correlation[0],2)}\")\n",
    "cp_slope, cp_int, cp_r, vc_p, cp_std_err = st.linregress(x, y)\n",
    "cp_fit = cp_slope * x + cp_int\n",
    "\n",
    "plt.scatter(x,y)\n",
    "plt.plot(x,cp_fit,\"--\")\n",
    "plt.xlabel('Latitude')\n",
    "plt.ylabel(\"Humidity (%)\")\n",
    "plt.title(\"Nouthern Hemisphere %Humidity by Latitude May 7th, 2020\")\n",
    "plt.show()"
   ]
  },
  {
   "cell_type": "markdown",
   "metadata": {},
   "source": [
    "####  Southern Hemisphere - Humidity (%) vs. Latitude Linear Regression"
   ]
  },
  {
   "cell_type": "code",
   "execution_count": 26,
   "metadata": {},
   "outputs": [
    {
     "name": "stdout",
     "output_type": "stream",
     "text": [
      "The correlation between both factors is 0.14\n"
     ]
    },
    {
     "data": {
      "image/png": "[encoded data removed]",
      "text/plain": [
       "<Figure size 432x288 with 1 Axes>"
      ]
     },
     "metadata": {
      "needs_background": "light"
     },
     "output_type": "display_data"
    }
   ],
   "source": [
    "#Repeat for humidty in southern hemisphere\n",
    "x=so_hem['Lat']\n",
    "y=so_hem['Humidity']\n",
    "correlation = st.pearsonr(x, y)\n",
    "print(f\"The correlation between both factors is {round(correlation[0],2)}\")\n",
    "cp_slope, cp_int, cp_r, vc_p, cp_std_err = st.linregress(x, y)\n",
    "cp_fit = cp_slope * x + cp_int\n",
    "\n",
    "plt.scatter(x,y)\n",
    "plt.plot(x,cp_fit,\"--\")\n",
    "plt.xlabel('Latitude')\n",
    "plt.ylabel(\"Humidity (%)\")\n",
    "plt.title(\"Southern Hemisphere %Humidity by Latitude May 7th, 2020\")\n",
    "plt.show()"
   ]
  },
  {
   "cell_type": "code",
   "execution_count": null,
   "metadata": {},
   "outputs": [],
   "source": [
    "#There is not a strong correlation between latitiude and humidity measurments for either norther or southern hemisphere.\n",
    "#Humidity is more likely influenced by natrual surroundings and climate (location to mountains, trees, proximity to ocean, altitude, than by latitude.\n"
   ]
  },
  {
   "cell_type": "markdown",
   "metadata": {},
   "source": [
    "####  Northern Hemisphere - Cloudiness (%) vs. Latitude Linear Regression"
   ]
  },
  {
   "cell_type": "code",
   "execution_count": 28,
   "metadata": {},
   "outputs": [
    {
     "name": "stdout",
     "output_type": "stream",
     "text": [
      "The correlation between both factors is 0.1\n"
     ]
    },
    {
     "data": {
      "image/png": "[encoded data removed]",
      "text/plain": [
       "<Figure size 432x288 with 1 Axes>"
      ]
     },
     "metadata": {
      "needs_background": "light"
     },
     "output_type": "display_data"
    }
   ],
   "source": [
    "#Repeat for cloudiness in northern hemisphere\n",
    "x=no_hem['Lat']\n",
    "y=no_hem['Cloud Cover']\n",
    "correlation = st.pearsonr(x, y)\n",
    "print(f\"The correlation between both factors is {round(correlation[0],2)}\")\n",
    "cp_slope, cp_int, cp_r, vc_p, cp_std_err = st.linregress(x, y)\n",
    "cp_fit = cp_slope * x + cp_int\n",
    "\n",
    "plt.scatter(x,y)\n",
    "plt.plot(x,cp_fit,\"--\")\n",
    "plt.title(\"Northern Hemisphere %Cloudiness by Latitude May 7th, 2020\")\n",
    "plt.xlabel('Latitude')\n",
    "plt.ylabel(\"Cloudiness (%)\")\n",
    "plt.show()"
   ]
  },
  {
   "cell_type": "markdown",
   "metadata": {},
   "source": [
    "####  Southern Hemisphere - Cloudiness (%) vs. Latitude Linear Regression"
   ]
  },
  {
   "cell_type": "code",
   "execution_count": 29,
   "metadata": {},
   "outputs": [
    {
     "name": "stdout",
     "output_type": "stream",
     "text": [
      "The correlation between both factors is -0.12\n"
     ]
    },
    {
     "data": {
      "image/png": "[encoded data removed]",
      "text/plain": [
       "<Figure size 432x288 with 1 Axes>"
      ]
     },
     "metadata": {
      "needs_background": "light"
     },
     "output_type": "display_data"
    }
   ],
   "source": [
    "#Repeat for humidty in southern hemisphere\n",
    "x=so_hem['Lat']\n",
    "y=so_hem['Cloud Cover']\n",
    "correlation = st.pearsonr(x, y)\n",
    "print(f\"The correlation between both factors is {round(correlation[0],2)}\")\n",
    "cp_slope, cp_int, cp_r, vc_p, cp_std_err = st.linregress(x, y)\n",
    "cp_fit = cp_slope * x + cp_int\n",
    "\n",
    "plt.scatter(x,y)\n",
    "plt.plot(x,cp_fit,\"--\")\n",
    "plt.title(\"Southern Hemisphere %Cloudiness by Latitude May 7th, 2020\")\n",
    "plt.xlabel('Latitude')\n",
    "plt.ylabel(\"Cloudiness (%)\")\n",
    "plt.show()"
   ]
  },
  {
   "cell_type": "code",
   "execution_count": null,
   "metadata": {},
   "outputs": [],
   "source": [
    "# With correlation values of -0.12 and 0.1 for the southern and northern hemispheres respectively, we see little correlation between % cloudiness and latitude\n",
    "# Would be interesting to compare humidity to cloudiness and look for any correlation."
   ]
  },
  {
   "cell_type": "markdown",
   "metadata": {},
   "source": [
    "####  Northern Hemisphere - Wind Speed (mph) vs. Latitude Linear Regression"
   ]
  },
  {
   "cell_type": "code",
   "execution_count": 30,
   "metadata": {},
   "outputs": [
    {
     "name": "stdout",
     "output_type": "stream",
     "text": [
      "The correlation between both factors is 0.06\n"
     ]
    },
    {
     "data": {
      "image/png": "[encoded data removed]",
      "text/plain": [
       "<Figure size 432x288 with 1 Axes>"
      ]
     },
     "metadata": {
      "needs_background": "light"
     },
     "output_type": "display_data"
    }
   ],
   "source": [
    "#Repeat for wind speed in norther hemisphere\n",
    "x=no_hem['Lat']\n",
    "y=no_hem['Wind Speed']\n",
    "correlation = st.pearsonr(x, y)\n",
    "print(f\"The correlation between both factors is {round(correlation[0],2)}\")\n",
    "cp_slope, cp_int, cp_r, vc_p, cp_std_err = st.linregress(x, y)\n",
    "cp_fit = cp_slope * x + cp_int\n",
    "\n",
    "plt.scatter(x,y)\n",
    "plt.plot(x,cp_fit,\"--\")\n",
    "plt.title(\"Northern Hemisphere Wind Speed by Latitude May 7th, 2020\")\n",
    "plt.xlabel('Latitude')\n",
    "plt.ylabel(\"Wind Speed (mph)\")\n",
    "plt.show()"
   ]
  },
  {
   "cell_type": "markdown",
   "metadata": {},
   "source": [
    "####  Southern Hemisphere - Wind Speed (mph) vs. Latitude Linear Regression"
   ]
  },
  {
   "cell_type": "code",
   "execution_count": 31,
   "metadata": {},
   "outputs": [
    {
     "name": "stdout",
     "output_type": "stream",
     "text": [
      "The correlation between both factors is -0.01\n"
     ]
    },
    {
     "data": {
      "image/png": "[encoded data removed]",
      "text/plain": [
       "<Figure size 432x288 with 1 Axes>"
      ]
     },
     "metadata": {
      "needs_background": "light"
     },
     "output_type": "display_data"
    }
   ],
   "source": [
    "#Repeat for wind speed in outhern hemisphere\n",
    "x=so_hem['Lat']\n",
    "y=so_hem['Wind Speed']\n",
    "correlation = st.pearsonr(x, y)\n",
    "print(f\"The correlation between both factors is {round(correlation[0],2)}\")\n",
    "cp_slope, cp_int, cp_r, vc_p, cp_std_err = st.linregress(x, y)\n",
    "cp_fit = cp_slope * x + cp_int\n",
    "\n",
    "plt.scatter(x,y)\n",
    "plt.plot(x,cp_fit,\"--\")\n",
    "plt.title(\"Southern Hemisphere Wind Speed by Latitude May 7th, 2020\")\n",
    "plt.xlabel('Latitude')\n",
    "plt.ylabel(\"Wind Speed (mph)\")\n",
    "plt.show()"
   ]
  },
  {
   "cell_type": "code",
   "execution_count": 32,
   "metadata": {},
   "outputs": [],
   "source": [
    "#We see little correlation between latitude and measurements other than maximum temperature for the data analyzed.\n",
    "#Max temp had strong correlation with latitude in both norther and southern hemispheres, -0.85 and 0.77 respectively.  Closer to 0 Latitude the hotter it gets due to more direct sunlight.\n",
    "#We see little correlation between latitude and humidity, wind speed, and cloudiness for both hemispheres.\n",
    "#In neither hemisphere for any of ther above fields (humidity, wind speed, cloudiness) did we have an a pearson-r correlation value greater than 0.2 or less than -0.2.\n",
    "#This indicate minimal correlation between latitude and humidity, wind speed and cloudiness\n",
    "#Latitude and the amout of direct sunlight has a storng correlation and drive temperature for places around the world, other city information like altitude would be interesting to correlate to maximum temperature too.\n",
    "#Humidity, wind speed and cloudiness are likely more stongly coordinated to other climate features than latitude.  These can be affected by climate and terrain.\n",
    "#It should be noted that this dataset while containing over 500 cities around the world is only from May 7th, 2020.\n",
    "#Looking at this information seasonally or over mulitple days would make stronger case for correlation."
   ]
  },
  {
   "cell_type": "code",
   "execution_count": null,
   "metadata": {},
   "outputs": [],
   "source": []
  }
 ],
 "metadata": {
  "anaconda-cloud": {},
  "kernel_info": {
   "name": "python3"
  },
  "kernelspec": {
   "display_name": "Python [conda env:gmaps]",
   "language": "python",
   "name": "conda-env-gmaps-py"
  },
  "language_info": {
   "codemirror_mode": {
    "name": "ipython",
    "version": 3
   },
   "file_extension": ".py",
   "mimetype": "text/x-python",
   "name": "python",
   "nbconvert_exporter": "python",
   "pygments_lexer": "ipython3",
   "version": "3.7.7"
  },
  "latex_envs": {
   "LaTeX_envs_menu_present": true,
   "autoclose": false,
   "autocomplete": true,
   "bibliofile": "biblio.bib",
   "cite_by": "apalike",
   "current_citInitial": 1,
   "eqLabelWithNumbers": true,
   "eqNumInitial": 1,
   "hotkeys": {
    "equation": "Ctrl-E",
    "itemize": "Ctrl-I"
   },
   "labels_anchors": false,
   "latex_user_defs": false,
   "report_style_numbering": false,
   "user_envs_cfg": false
  },
  "nteract": {
   "version": "0.12.3"
  }
 },
 "nbformat": 4,
 "nbformat_minor": 4
}
